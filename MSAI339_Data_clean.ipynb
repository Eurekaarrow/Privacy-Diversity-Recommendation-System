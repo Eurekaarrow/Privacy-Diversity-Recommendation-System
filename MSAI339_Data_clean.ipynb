{
  "nbformat": 4,
  "nbformat_minor": 0,
  "metadata": {
    "colab": {
      "provenance": []
    },
    "kernelspec": {
      "name": "python3",
      "display_name": "Python 3"
    },
    "language_info": {
      "name": "python"
    }
  },
  "cells": [
    {
      "cell_type": "code",
      "execution_count": 1,
      "metadata": {
        "colab": {
          "base_uri": "https://localhost:8080/"
        },
        "id": "PyUxM5wszUvj",
        "outputId": "6f5c4627-aa2a-48f1-ea55-e9ebeba9e51a"
      },
      "outputs": [
        {
          "output_type": "stream",
          "name": "stdout",
          "text": [
            "Downloading from https://www.kaggle.com/api/v1/datasets/download/garymk/movielens-25m-dataset?dataset_version_number=1...\n"
          ]
        },
        {
          "output_type": "stream",
          "name": "stderr",
          "text": [
            "100%|██████████| 258M/258M [00:02<00:00, 126MB/s]"
          ]
        },
        {
          "output_type": "stream",
          "name": "stdout",
          "text": [
            "Extracting files...\n"
          ]
        },
        {
          "output_type": "stream",
          "name": "stderr",
          "text": [
            "\n"
          ]
        },
        {
          "output_type": "stream",
          "name": "stdout",
          "text": [
            "Path to dataset files: /root/.cache/kagglehub/datasets/garymk/movielens-25m-dataset/versions/1\n"
          ]
        }
      ],
      "source": [
        "import kagglehub\n",
        "import os, gc, json, math\n",
        "import numpy as np\n",
        "import pandas as pd\n",
        "from scipy import sparse\n",
        "from sklearn.feature_extraction.text import TfidfVectorizer\n",
        "from sklearn.preprocessing import MinMaxScaler, StandardScaler\n",
        "from sklearn.model_selection import train_test_split\n",
        "\n",
        "path = kagglehub.dataset_download(\"garymk/movielens-25m-dataset\")\n",
        "print(\"Path to dataset files:\", path)\n",
        "\n",
        "DATA_DIR = path\n",
        "OUT_DIR  = \"artifacts\"\n",
        "os.makedirs(OUT_DIR, exist_ok=True)\n"
      ]
    },
    {
      "cell_type": "code",
      "source": [
        "\n",
        "DATA_DIR = os.path.join(path, \"ml-25m\")\n",
        "ratings = pd.read_csv(\n",
        "    f\"{DATA_DIR}/ratings.csv\",\n",
        "    dtype={\"userId\":\"int32\", \"movieId\":\"int32\"},\n",
        "    usecols=[\"userId\",\"movieId\",\"rating\",\"timestamp\"]\n",
        ")\n",
        "\n",
        "movies = pd.read_csv(\n",
        "    f\"{DATA_DIR}/movies.csv\",\n",
        "    dtype={\"movieId\":\"int32\",\"title\":\"string\",\"genres\":\"string\"}\n",
        ")\n",
        "\n",
        "tags = pd.read_csv(\n",
        "    f\"{DATA_DIR}/tags.csv\",\n",
        "    dtype={\"userId\":\"int32\",\"movieId\":\"int32\",\"tag\":\"string\",\"timestamp\":\"int64\"}\n",
        ")\n",
        "\n",
        "genome_scores = pd.read_csv(\n",
        "    f\"{DATA_DIR}/genome-scores.csv\",\n",
        "    dtype={\"movieId\":\"int32\",\"tagId\":\"int32\",\"relevance\":\"float32\"}\n",
        ")\n",
        "\n",
        "genome_tags = pd.read_csv(\n",
        "    f\"{DATA_DIR}/genome-tags.csv\",\n",
        "    dtype={\"tagId\":\"int32\",\"tag\":\"string\"}\n",
        ")\n",
        "\n",
        "links = pd.read_csv(\n",
        "    f\"{DATA_DIR}/links.csv\",\n",
        "    dtype={\"movieId\":\"int32\",\"imdbId\":\"string\",\"tmdbId\":\"string\"}\n",
        ")\n",
        "\n"
      ],
      "metadata": {
        "id": "14B5RpBPz8ms"
      },
      "execution_count": 9,
      "outputs": []
    },
    {
      "cell_type": "code",
      "source": [
        "\n",
        "# drop obvious nulls\n",
        "ratings.dropna(subset=[\"userId\",\"movieId\",\"rating\"], inplace=True)\n",
        "movies.dropna(subset=[\"movieId\",\"title\"], inplace=True)\n",
        "\n",
        "# enforce rating bounds\n",
        "ratings = ratings[ratings[\"rating\"].between(0.5, 5.0)]\n",
        "\n",
        "# remove duplicate rating rows\n",
        "ratings.drop_duplicates(subset=[\"userId\",\"movieId\",\"timestamp\"], inplace=True)\n",
        "\n",
        "# ensure unique movie rows\n",
        "movies.drop_duplicates(subset=[\"movieId\"], inplace=True)\n",
        "\n",
        "ratings.shape, movies.shape\n"
      ],
      "metadata": {
        "colab": {
          "base_uri": "https://localhost:8080/"
        },
        "id": "7N4YHrqD09PS",
        "outputId": "70ccdfde-ba0f-48a7-82f9-67de04b03ca4"
      },
      "execution_count": 10,
      "outputs": [
        {
          "output_type": "execute_result",
          "data": {
            "text/plain": [
              "((25000095, 4), (62423, 3))"
            ]
          },
          "metadata": {},
          "execution_count": 10
        }
      ]
    },
    {
      "cell_type": "code",
      "source": [
        "# Keep only active users and movies\n",
        "user_counts = ratings.groupby(\"userId\").size()\n",
        "movie_counts = ratings.groupby(\"movieId\").size()\n",
        "\n",
        "ratings = ratings[\n",
        "    ratings[\"userId\"].isin(user_counts[user_counts >= 5].index) &\n",
        "    ratings[\"movieId\"].isin(movie_counts[movie_counts >= 5].index)\n",
        "].copy()\n",
        "\n",
        "print(\"Users:\", ratings['userId'].nunique())\n",
        "print(\"Movies:\", ratings['movieId'].nunique())\n",
        "print(\"Ratings:\", len(ratings))\n"
      ],
      "metadata": {
        "colab": {
          "base_uri": "https://localhost:8080/"
        },
        "id": "D3CPQBg-09Wn",
        "outputId": "04025c64-7fc6-401b-eb7a-4ce30f18e8ce"
      },
      "execution_count": 11,
      "outputs": [
        {
          "output_type": "stream",
          "name": "stdout",
          "text": [
            "Users: 162541\n",
            "Movies: 32720\n",
            "Ratings: 24945870\n"
          ]
        }
      ]
    },
    {
      "cell_type": "code",
      "source": [
        "# make matrix indices start from 0\n",
        "uid_map = {u: i for i, u in enumerate(sorted(ratings[\"userId\"].unique()))}\n",
        "mid_map = {m: i for i, m in enumerate(sorted(ratings[\"movieId\"].unique()))}\n",
        "\n",
        "ratings[\"uid\"] = ratings[\"userId\"].map(uid_map)\n",
        "ratings[\"mid\"] = ratings[\"movieId\"].map(mid_map)\n",
        "\n",
        "print(ratings.head())\n"
      ],
      "metadata": {
        "colab": {
          "base_uri": "https://localhost:8080/"
        },
        "id": "CooN8ExT09aj",
        "outputId": "5f58cf98-6224-4713-f4e7-471bd36335c6"
      },
      "execution_count": 12,
      "outputs": [
        {
          "output_type": "stream",
          "name": "stdout",
          "text": [
            "   userId  movieId  rating   timestamp  uid  mid\n",
            "0       1      296     5.0  1147880044    0  292\n",
            "1       1      306     3.5  1147868817    0  302\n",
            "2       1      307     5.0  1147868828    0  303\n",
            "3       1      665     5.0  1147878820    0  654\n",
            "4       1      899     3.5  1147868510    0  878\n"
          ]
        }
      ]
    },
    {
      "cell_type": "code",
      "source": [],
      "metadata": {
        "id": "FBmMy7Kc09dk"
      },
      "execution_count": null,
      "outputs": []
    },
    {
      "cell_type": "code",
      "source": [],
      "metadata": {
        "id": "fDyJ-Skf09gi"
      },
      "execution_count": null,
      "outputs": []
    },
    {
      "cell_type": "code",
      "source": [],
      "metadata": {
        "id": "c9FShvhh09ju"
      },
      "execution_count": null,
      "outputs": []
    }
  ]
}